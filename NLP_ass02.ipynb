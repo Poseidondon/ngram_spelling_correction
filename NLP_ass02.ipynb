{
  "cells": [
    {
      "cell_type": "markdown",
      "metadata": {
        "id": "DIgM6C9HYUhm"
      },
      "source": [
        "# Context-sensitive Spelling Correction\n",
        "\n",
        "The goal of the assignment is to implement context-sensitive spelling correction. The input of the code will be a set of text lines and the output will be the same lines with spelling mistakes fixed.\n",
        "\n",
        "Submit the solution of the assignment to Moodle as a link to your GitHub repository containing this notebook.\n",
        "\n",
        "Useful links:\n",
        "- [Norvig's solution](https://norvig.com/spell-correct.html)\n",
        "- [Norvig's dataset](https://norvig.com/big.txt)\n",
        "- [Ngrams data](https://www.ngrams.info/download_coca.asp)\n",
        "\n",
        "Grading:\n",
        "- 60 points - Implement spelling correction\n",
        "- 20 points - Justify your decisions\n",
        "- 20 points - Evaluate on a test set\n"
      ]
    },
    {
      "cell_type": "markdown",
      "metadata": {
        "id": "x-vb8yFOGRDF"
      },
      "source": [
        "## Implement context-sensitive spelling correction\n",
        "\n",
        "Your task is to implement context-sensitive spelling corrector using N-gram language model. The idea is to compute conditional probabilities of possible correction options. For example, the phrase \"dking sport\" should be fixed as \"doing sport\" not \"dying sport\", while \"dking species\" -- as \"dying species\".\n",
        "\n",
        "The best way to start is to analyze [Norvig's solution](https://norvig.com/spell-correct.html) and [N-gram Language Models](https://web.stanford.edu/~jurafsky/slp3/3.pdf).\n",
        "\n",
        "You may also want to implement:\n",
        "- spell-checking for a concrete language - Russian, Tatar, etc. - any one you know, such that the solution accounts for language specifics,\n",
        "- some recent (or not very recent) paper on this topic,\n",
        "- solution which takes into account keyboard layout and associated misspellings,\n",
        "- efficiency improvement to make the solution faster,\n",
        "- any other idea of yours to improve the Norvig’s solution.\n",
        "\n",
        "IMPORTANT:  \n",
        "Your project should not be a mere code copy-paste from somewhere. You must provide:\n",
        "- Your implementation\n",
        "- Analysis of why the implemented approach is suggested\n",
        "- Improvements of the original approach that you have chosen to implement"
      ]
    },
    {
      "cell_type": "markdown",
      "source": [
        "### Downloads"
      ],
      "metadata": {
        "id": "YLsd_4jRCrHZ"
      }
    },
    {
      "cell_type": "code",
      "source": [
        "%%capture\n",
        "!pip install --upgrade gdown"
      ],
      "metadata": {
        "id": "dkY6ImMTCJMK"
      },
      "execution_count": 130,
      "outputs": []
    },
    {
      "cell_type": "code",
      "execution_count": 131,
      "metadata": {
        "id": "MoQeEsZvHvvi",
        "colab": {
          "base_uri": "https://localhost:8080/"
        },
        "outputId": "49dd81ba-5eca-4158-9ed2-57416ff6927b"
      },
      "outputs": [
        {
          "output_type": "stream",
          "name": "stdout",
          "text": [
            "Downloading...\n",
            "From: https://drive.google.com/uc?id=1ptKHPYnGUIdB-tTEftEe8v9tCWmocyDX\n",
            "To: /content/bigrams.txt\n",
            "100% 17.7M/17.7M [00:00<00:00, 56.2MB/s]\n",
            "Downloading...\n",
            "From: https://drive.google.com/uc?id=122aiwc0xlSBS-jHCNU0NEA0I0VTNKa-p\n",
            "To: /content/big.txt\n",
            "100% 6.49M/6.49M [00:00<00:00, 41.4MB/s]\n"
          ]
        }
      ],
      "source": [
        "# !gdown 1YC8NNo11uNbrGHUaCk9YSmu-GGDHgTx3\n",
        "!gdown 1ptKHPYnGUIdB-tTEftEe8v9tCWmocyDX\n",
        "# !gdown 1LN4nRqzqmiGzPTUfNh2HaROux5j6mwcp\n",
        "!gdown 122aiwc0xlSBS-jHCNU0NEA0I0VTNKa-p"
      ]
    },
    {
      "cell_type": "markdown",
      "source": [
        "### Imports"
      ],
      "metadata": {
        "id": "0QICt2hpCumC"
      }
    },
    {
      "cell_type": "code",
      "source": [
        "import heapq\n",
        "import nltk\n",
        "nltk.download('punkt')\n",
        "\n",
        "from nltk.tokenize import word_tokenize, sent_tokenize\n",
        "from nltk.tokenize.treebank import TreebankWordDetokenizer\n",
        "from collections import Counter\n",
        "from tqdm.auto import tqdm\n",
        "from random import random, sample, choices\n",
        "from string import punctuation\n",
        "from torchtext.data.metrics import bleu_score"
      ],
      "metadata": {
        "colab": {
          "base_uri": "https://localhost:8080/"
        },
        "id": "gaw4Tb4PCvxE",
        "outputId": "e48a5944-3e32-47a0-9dc2-ff96333636f9"
      },
      "execution_count": 132,
      "outputs": [
        {
          "output_type": "stream",
          "name": "stderr",
          "text": [
            "[nltk_data] Downloading package punkt to /root/nltk_data...\n",
            "[nltk_data]   Package punkt is already up-to-date!\n"
          ]
        }
      ]
    },
    {
      "cell_type": "markdown",
      "source": [
        "### Config"
      ],
      "metadata": {
        "id": "vaAhD8lACwhf"
      }
    },
    {
      "cell_type": "code",
      "source": [
        "class Config:\n",
        "    # model parameters\n",
        "    edit0_weight = 1\n",
        "    edit1_weight = 1e-2\n",
        "    edit2_weight = 1e-4\n",
        "    unknown_word_threshold = 1e-8\n",
        "\n",
        "    # test generation\n",
        "    mutation_prob = 0.5\n",
        "    edit_probs = [0.7, 0.275, 0.025]"
      ],
      "metadata": {
        "id": "89smD0iNCxeb"
      },
      "execution_count": 198,
      "outputs": []
    },
    {
      "cell_type": "markdown",
      "source": [
        "### Read data\n",
        "Read bigrams:"
      ],
      "metadata": {
        "id": "FKlsRUIODT4x"
      }
    },
    {
      "cell_type": "code",
      "source": [
        "with open('bigrams.txt', 'r', encoding='cp1251') as f:\n",
        "    data = f.read().split('\\n')\n",
        "\n",
        "unigrams = Counter()\n",
        "bigrams = {}\n",
        "for s in tqdm(data, desc='Counting n-grams'):\n",
        "    c, w1, w2 = s.split('\\t')\n",
        "    c, w1, w2 = int(c), w1.lower(), w2.lower()\n",
        "    unigrams[w1] += int(c)\n",
        "    if w1 not in bigrams:\n",
        "        bigrams[w1] = Counter()\n",
        "    bigrams[w1][w2] += int(c)\n",
        "\n",
        "N = sum(unigrams.values())"
      ],
      "metadata": {
        "colab": {
          "base_uri": "https://localhost:8080/",
          "height": 49,
          "referenced_widgets": [
            "763cf038ffbd4c0f9553786aa930da03",
            "a4c15416fdb446619cc4b1f496c758e6",
            "ddb4ffcf71b14737a9b128318c3ef451",
            "61956c17ed1e41b0ac1aca2114c36e8a",
            "fe1f87275309403faae7de2f9b178814",
            "ee7f19073255464bbc2fb1fc51e890fe",
            "86ce1d46dfbe46af946965995b7952ea",
            "fe0c019a6dc340db8c23cc3efcbe2840",
            "86ec09b2ed6a423f9df79ac79e2a7ad6",
            "daac3efc59334e00ab818207aa9d4aea",
            "2dca263201374e75a57ad5835e1ea138"
          ]
        },
        "id": "ru2lktmoDVH4",
        "outputId": "b8f2c099-8eef-4010-ee8c-9f31baec6bdf"
      },
      "execution_count": 134,
      "outputs": [
        {
          "output_type": "display_data",
          "data": {
            "text/plain": [
              "Counting n-grams:   0%|          | 0/1020385 [00:00<?, ?it/s]"
            ],
            "application/vnd.jupyter.widget-view+json": {
              "version_major": 2,
              "version_minor": 0,
              "model_id": "763cf038ffbd4c0f9553786aa930da03"
            }
          },
          "metadata": {}
        }
      ]
    },
    {
      "cell_type": "markdown",
      "source": [
        "### N-gram model"
      ],
      "metadata": {
        "id": "J0sYuu3qFtf7"
      }
    },
    {
      "cell_type": "code",
      "source": [
        "def unigram_prob(w: str):\n",
        "    if w in unigrams:\n",
        "        return unigrams[w] / N\n",
        "    else:\n",
        "        return Config.unknown_word_threshold\n",
        "\n",
        "def bigram_prob(w1: str, w2: str):\n",
        "    if w2 in bigrams[w1]:\n",
        "        return bigrams[w1][w2] / unigrams[w1]\n",
        "    else:\n",
        "        return unigram_prob(w2)"
      ],
      "metadata": {
        "id": "ncI26wTtFtAk"
      },
      "execution_count": 135,
      "outputs": []
    },
    {
      "cell_type": "markdown",
      "source": [
        "### Spellchecking model (modified Norvig's solution)\n",
        "Spellchecking model:"
      ],
      "metadata": {
        "id": "PFAu99YjCzz5"
      }
    },
    {
      "cell_type": "code",
      "source": [
        "def unigram_correction(word, topk=5):\n",
        "    best_corrections = heapq.nlargest(\n",
        "        topk,\n",
        "        candidates(word),\n",
        "        key=lambda x: x[1] * unigram_prob(x[0]))\n",
        "    best_corrections = [(w, score * unigram_prob(w)) for w, score in best_corrections]\n",
        "\n",
        "    return best_corrections\n",
        "\n",
        "def bigram_correction(word1, word2, topk=5):\n",
        "    if word1 not in bigrams:\n",
        "        return unigram_correction(word2, topk=topk)\n",
        "\n",
        "    best_corrections = heapq.nlargest(\n",
        "        topk,\n",
        "        candidates(word2),\n",
        "        key=lambda x: x[1] * bigram_prob(word1, x[0]))\n",
        "    best_corrections = [(w, score * bigram_prob(word1, w)) for w, score in best_corrections]\n",
        "\n",
        "    return best_corrections\n",
        "\n",
        "def candidates(word):\n",
        "    \"Generate possible spelling corrections for word.\"\n",
        "    # here, modified to return corrections with different edit distance\n",
        "    # return [known([word]), known(edits1(word)), known(edits2(word))]\n",
        "    if known([word]):\n",
        "        yield word, Config.edit0_weight\n",
        "    else:\n",
        "        yield word, 1.\n",
        "\n",
        "    edits1_cache = edits1(word)\n",
        "    for w in known(edits1_cache):\n",
        "        if w != word:\n",
        "            yield w, Config.edit1_weight\n",
        "\n",
        "    edits2_fast = (e2 for e1 in edits1_cache for e2 in edits1(e1))\n",
        "    for w in known(edits2_fast):\n",
        "        if w != word and w not in edits1_cache:\n",
        "            yield w, Config.edit2_weight\n",
        "\n",
        "def known(words):\n",
        "    \"The subset of `words` that appear in the unigrams.\"\n",
        "    return set(w for w in words if w in unigrams)\n",
        "\n",
        "def edits1(word):\n",
        "    \"All edits that are one edit away from `word`.\"\n",
        "    letters    = 'abcdefghijklmnopqrstuvwxyz'\n",
        "    splits     = [(word[:i], word[i:])    for i in range(len(word) + 1)]\n",
        "    deletes    = [L + R[1:]               for L, R in splits if R]\n",
        "    transposes = [L + R[1] + R[0] + R[2:] for L, R in splits if len(R)>1]\n",
        "    replaces   = [L + c + R[1:]           for L, R in splits if R for c in letters]\n",
        "    inserts    = [L + c + R               for L, R in splits for c in letters]\n",
        "    return set(deletes + transposes + replaces + inserts)"
      ],
      "metadata": {
        "id": "Xaxuw0AlC26A"
      },
      "execution_count": 136,
      "outputs": []
    },
    {
      "cell_type": "code",
      "source": [
        "print(bigram_correction('hair', 'dked'))\n",
        "print(bigram_correction('boy', 'dked'))"
      ],
      "metadata": {
        "colab": {
          "base_uri": "https://localhost:8080/"
        },
        "id": "XxkNybkrTXGr",
        "outputId": "7135d70e-3111-424f-ad4a-37ac59fe8923"
      },
      "execution_count": 137,
      "outputs": [
        {
          "output_type": "stream",
          "name": "stdout",
          "text": [
            "[('dyed', 0.000619370822472838), ('tied', 0.00010064775865183616), ('dye', 6.890500400010323e-05), ('died', 5.131570672471009e-05), ('does', 4.645281168546285e-05)]\n",
            "[('died', 0.000856741573033708), ('did', 0.00027703651685393257), ('asked', 0.00012640449438202245), ('does', 0.00011903089887640449), ('need', 2.1373930620838102e-05)]\n"
          ]
        }
      ]
    },
    {
      "cell_type": "markdown",
      "source": [
        "Spellchecking interface with beam search:"
      ],
      "metadata": {
        "id": "2ohaZK9qcGAK"
      }
    },
    {
      "cell_type": "code",
      "source": [
        "def iterate_spellchecks(beam: list, word):\n",
        "    for words, beam_score in beam:\n",
        "        for w2, w2_score in bigram_correction(words[-1], word, len(beam)):\n",
        "            yield words + [w2], beam_score * w2_score\n",
        "\n",
        "def spellchecking(words: list, num_beams=4, num_return_sequences=1, pbar=True, return_list=True):\n",
        "    assert 0 < num_return_sequences <= num_beams\n",
        "\n",
        "    beam = unigram_correction(words[0], topk=num_beams)\n",
        "    beam = [([word], score) for word, score in beam]\n",
        "\n",
        "    if pbar:\n",
        "        bar = tqdm(words[1:], desc='Beam search')\n",
        "    else:\n",
        "        bar = words[1:]\n",
        "    for word in bar:\n",
        "        beam = heapq.nlargest(\n",
        "            len(beam),\n",
        "            iterate_spellchecks(beam, word),\n",
        "            key=lambda x: x[1]\n",
        "        )\n",
        "\n",
        "    beam = sorted(beam, key=lambda x: x[1], reverse=True)\n",
        "    if return_list:\n",
        "        return beam[:num_return_sequences]\n",
        "    else:\n",
        "        return [TreebankWordDetokenizer().detokenize(seq) for seq, score in beam][:num_return_sequences]"
      ],
      "metadata": {
        "id": "JA69um5dcLMa"
      },
      "execution_count": 138,
      "outputs": []
    },
    {
      "cell_type": "code",
      "source": [
        "example = \"This header shouldn't was the first thang seen when viewing this Project Gutenberg file.\"\n",
        "words = word_tokenize(example.lower())\n",
        "\n",
        "print(*spellchecking(words), sep='\\n')"
      ],
      "metadata": {
        "colab": {
          "base_uri": "https://localhost:8080/",
          "height": 67,
          "referenced_widgets": [
            "115a50722235441a9cf8aa7f98941cf7",
            "7c5474a17d0946e4b2e60a1737f3461f",
            "1cf261c11ac3438f9e1cad974388afc8",
            "c0301574f53d4516abbc2590f05e342e",
            "2b2bba8f7cc543ee8427eca6ba65ddf8",
            "28f1d304e9ea4dfa808011bf594e28ae",
            "431a3d3383284c4980f37250ee950ef9",
            "01dc98506a9f464da8c4dc91d29db6ec",
            "b01ce1b0990049f190913c94868757f8",
            "baf3002a6958415cac577d963e3809cf",
            "3457ee61fa1e47188eb4d60ce81c278f"
          ]
        },
        "id": "EdZApWeFkCtg",
        "outputId": "5e7f1605-4877-4e76-b99a-4b5915788971"
      },
      "execution_count": 139,
      "outputs": [
        {
          "output_type": "display_data",
          "data": {
            "text/plain": [
              "Beam search:   0%|          | 0/15 [00:00<?, ?it/s]"
            ],
            "application/vnd.jupyter.widget-view+json": {
              "version_major": 2,
              "version_minor": 0,
              "model_id": "115a50722235441a9cf8aa7f98941cf7"
            }
          },
          "metadata": {}
        },
        {
          "output_type": "stream",
          "name": "stdout",
          "text": [
            "(['this', 'reader', 'should', \"n't\", 'was', 'the', 'first', 'thing', 'seen', 'when', 'viewing', 'this', 'project', 'gutenberg', 'file', 'a'], 4.496293266345814e-10)\n"
          ]
        }
      ]
    },
    {
      "cell_type": "markdown",
      "metadata": {
        "id": "oML-5sJwGRLE"
      },
      "source": [
        "## Justify your decisions\n",
        "\n",
        "Write down justificaitons for your implementation choices. For example, these choices could be:\n",
        "- Which ngram dataset to use\n",
        "- Which weights to assign for edit1, edit2 or absent words probabilities\n",
        "- Beam search parameters\n",
        "- etc."
      ]
    },
    {
      "cell_type": "markdown",
      "metadata": {
        "id": "6Xb_twOmVsC6"
      },
      "source": [
        "### Dataset\n",
        "I decided to use bigram dataset, to build bigrma spellchecking model. Nevertheless it is still possible to use fivegram dataset to build n-gram models with n <= 5, I found bigrams sufficient for the spellchecking task.\n",
        "\n",
        "### edit0, edit1, edit2 and unknown words\n",
        "To prioritize corrections with lower edit distance, n-gram probabilities are multiplied by the following weights:\n",
        "- **edit0**: no correction is required (word is present in vocabulary) \\\\\n",
        "    *weight = 1*\n",
        "- **edit1**: 1 edit is required, previous weight is multiplied by *1e-2* \\\\\n",
        "    *weight = 1e-2*\n",
        "- **edit2**: 2 edits are required, previous weight is multiplied by *1e-2* \\\\\n",
        "    *weight = 1e-4*\n",
        "- **unknown**: this value is not multiplied by n-gram probability, it is constant \\\\\n",
        "    *threshold = 1e-8*\n",
        "\n",
        "Those weights are assigned according to intuitive rule that edit{n} misspelling is one rank more likely to occur than edit{n - 1} misspelling. More precise values are found during empirical experiments and evaluation.\n",
        "\n",
        "### Beam search\n",
        "Number of beams during evaluation is decided to be 4, which is sufficient both in terms of time and accuracy."
      ]
    },
    {
      "cell_type": "markdown",
      "metadata": {
        "id": "46rk65S4GRSe"
      },
      "source": [
        "## Evaluate on a test set\n",
        "\n",
        "Your task is to generate a test set and evaluate your work. You may vary the noise probability to generate different datasets with varying compexity. Compare your solution to the Norvig's corrector, and report the accuracies."
      ]
    },
    {
      "cell_type": "markdown",
      "source": [
        "Read data:"
      ],
      "metadata": {
        "id": "X8GDem8WHIls"
      }
    },
    {
      "cell_type": "code",
      "execution_count": 140,
      "metadata": {
        "id": "OwZWaX9VVs7B",
        "colab": {
          "base_uri": "https://localhost:8080/"
        },
        "outputId": "616e8fea-2900-49e2-a661-f443cc2c7242"
      },
      "outputs": [
        {
          "output_type": "stream",
          "name": "stdout",
          "text": [
            "['please', 'do', 'not', 'remove', 'it']\n",
            "['to', 'sherlock', 'holmes', 'she', 'is', 'always', 'the', 'woman']\n",
            "['i', 'have', 'seldom', 'heard', 'him', 'mention', 'her', 'under', 'any', 'other', 'name']\n",
            "['in', 'his', 'eyes', 'she', 'eclipses', 'and', 'predominates', 'the', 'whole', 'of', 'her', 'sex']\n",
            "['it', 'was', 'not', 'that', 'he', 'felt', 'any', 'emotion', 'akin', 'to', 'love', 'for', 'irene', 'adler']\n"
          ]
        }
      ],
      "source": [
        "with open('big.txt', 'r') as f:\n",
        "    text = f.read()\n",
        "\n",
        "sentences = sent_tokenize(text)\n",
        "punkt = set(punctuation) | {'``', \"''\", }\n",
        "sentences = [word_tokenize(s.lower()) for s in sentences if '\\n' not in s]\n",
        "sentences = [[w for w in s if w not in punkt] for s in sentences]\n",
        "print(*sentences[:5], sep='\\n')"
      ]
    },
    {
      "cell_type": "markdown",
      "source": [
        "Mutate sentences:"
      ],
      "metadata": {
        "id": "P6x-KJuvHKK-"
      }
    },
    {
      "cell_type": "code",
      "source": [
        "def mutate_word(word: str, edit_distance=1):\n",
        "    for i in range(edit_distance):\n",
        "        word = sample(edits1(word), 1)[0]\n",
        "\n",
        "    return word\n",
        "\n",
        "def random_mutate_word(word: str):\n",
        "    edit_distance = choices([1, 2, 3], weights=Config.edit_probs)[0]\n",
        "    return mutate_word(word, edit_distance=edit_distance)\n",
        "\n",
        "def random_mutate_sentence(sentence: list):\n",
        "    new_sentence = sentence.copy()\n",
        "    for i in range(len(new_sentence)):\n",
        "        if random() <= Config.mutation_prob:\n",
        "            new_sentence[i] = random_mutate_word(new_sentence[i])\n",
        "\n",
        "    return new_sentence"
      ],
      "metadata": {
        "id": "IP0wgrBFFdSx"
      },
      "execution_count": 141,
      "outputs": []
    },
    {
      "cell_type": "code",
      "source": [
        "mutated_sentences = [random_mutate_sentence(s) for s in sentences]"
      ],
      "metadata": {
        "colab": {
          "base_uri": "https://localhost:8080/"
        },
        "id": "w7f18G9wPsXi",
        "outputId": "8fe6e7fe-cf6a-4e6a-8b81-e4b03cbdcdb6"
      },
      "execution_count": 142,
      "outputs": [
        {
          "output_type": "stream",
          "name": "stderr",
          "text": [
            "<ipython-input-141-58fd85c0dfbe>:3: DeprecationWarning: Sampling from a set deprecated\n",
            "since Python 3.9 and will be removed in a subsequent version.\n",
            "  word = sample(edits1(word), 1)[0]\n"
          ]
        }
      ]
    },
    {
      "cell_type": "markdown",
      "source": [
        "Norvig's solution:"
      ],
      "metadata": {
        "id": "TbB_hvNKFqH_"
      }
    },
    {
      "cell_type": "code",
      "source": [
        "def norvig_P(word):\n",
        "    \"Probability of `word`.\"\n",
        "    return unigrams[word] / N\n",
        "\n",
        "def norvig_correction(word):\n",
        "    \"Most probable spelling correction for word.\"\n",
        "    return max(norvig_candidates(word), key=norvig_P)\n",
        "\n",
        "def norvig_candidates(word):\n",
        "    \"Generate possible spelling corrections for word.\"\n",
        "    return (known([word]) or known(edits1(word)) or known(norvig_edits2(word)) or [word])\n",
        "\n",
        "def norvig_edits2(word):\n",
        "    \"All edits that are two edits away from `word`.\"\n",
        "    return (e2 for e1 in edits1(word) for e2 in edits1(e1))\n",
        "\n",
        "def norvig_spellchecking(sentence: list):\n",
        "    return [norvig_correction(w) for w in sentence]"
      ],
      "metadata": {
        "id": "DVFGRL9-Fte1"
      },
      "execution_count": 178,
      "outputs": []
    },
    {
      "cell_type": "markdown",
      "source": [
        "Evaluate BLEU score"
      ],
      "metadata": {
        "id": "44d6S9D8QZWp"
      }
    },
    {
      "cell_type": "code",
      "source": [
        "def evaluate_bleu(raw_sentences, mutated_sentences, num_sentences=None, num_beams=4, pbar=True):\n",
        "    candidate_sentences = []\n",
        "    if num_sentences is not None:\n",
        "        sent_idxs = list(range(len(raw_sentences)))\n",
        "        sent_idxs = sample(sent_idxs, num_sentences)\n",
        "        raw_sentences = [sent for i, sent in enumerate(raw_sentences) if i in sent_idxs]\n",
        "        mutated_sentences = [sent for i, sent in enumerate(mutated_sentences) if i in sent_idxs]\n",
        "\n",
        "    if pbar:\n",
        "        bar = tqdm(mutated_sentences, desc='Evaluating BLEU score')\n",
        "    else:\n",
        "        bar = mutated_sentences\n",
        "    for sent in bar:\n",
        "        candidate_sentences.append(spellchecking(sent, num_beams=num_beams, pbar=False)[0][0])\n",
        "\n",
        "    norvig_sentences = [norvig_spellchecking(sent) for sent in mutated_sentences]\n",
        "\n",
        "    # print('Raw')\n",
        "    # print(*raw_sentences[:5], sep='\\n')\n",
        "    # print('Mutated')\n",
        "    # print(*mutated_sentences[:5], sep='\\n')\n",
        "    # print('Norvig')\n",
        "    # print(*norvig_sentences[:5], sep='\\n')\n",
        "    # print('Canidates')\n",
        "    # print(*candidate_sentences[:5], sep='\\n')\n",
        "\n",
        "    references = [[sent] for sent in raw_sentences]\n",
        "    mutated_bleu = bleu_score(mutated_sentences, references, max_n=2, weights=[0.5, 0.5])\n",
        "    candidates_bleu = bleu_score(candidate_sentences, references, max_n=2, weights=[0.5, 0.5])\n",
        "    norvig_bleu = bleu_score(norvig_sentences, references, max_n=2, weights=[0.5, 0.5])\n",
        "    return mutated_bleu, candidates_bleu, norvig_bleu"
      ],
      "metadata": {
        "id": "f5RitMX9QeJJ"
      },
      "execution_count": 194,
      "outputs": []
    },
    {
      "cell_type": "code",
      "source": [
        "mutated_bleu, candidates_bleu, norvig_bleu = evaluate_bleu(\n",
        "    sentences,\n",
        "    mutated_sentences,\n",
        "    num_sentences=100,\n",
        "    num_beams=4\n",
        ")\n",
        "print(f'Raw BLEU score: {mutated_bleu:.6f}')\n",
        "print(f'Norvig BLEU score: {norvig_bleu:.6f};    improvement: {(norvig_bleu - mutated_bleu):.6f}')\n",
        "print(f'N-gram BLEU score: {candidates_bleu:.6f};    improvement: {(candidates_bleu - mutated_bleu):.6f}')"
      ],
      "metadata": {
        "colab": {
          "base_uri": "https://localhost:8080/",
          "height": 103,
          "referenced_widgets": [
            "a22adec0839149a697a92d87411dab41",
            "78b2b51a6b364eb2b6e183b22402ddeb",
            "08bfea7761844a4aaa020517cd7da77a",
            "2fa5243d2fd7444e9bce02706dea749a",
            "042846b15f7640eaa90f2ccd027055e4",
            "50297a9fe75743cf92764ce33c4d15a6",
            "a08e39032f164f6ea3c12ef8e35df825",
            "0f95afe960b642cd83a645b1944c4256",
            "26c91ea780c14f019a451da777cca62c",
            "d66d5c59b1cb4874b118b17274c87517",
            "6b520cbc6b76417397cea6f4c2e3eb7a"
          ]
        },
        "id": "-T0S112cHyUr",
        "outputId": "53e65b07-0ea0-4d36-a825-35e52aaaee57"
      },
      "execution_count": 199,
      "outputs": [
        {
          "output_type": "display_data",
          "data": {
            "text/plain": [
              "Evaluating BLEU score:   0%|          | 0/100 [00:00<?, ?it/s]"
            ],
            "application/vnd.jupyter.widget-view+json": {
              "version_major": 2,
              "version_minor": 0,
              "model_id": "a22adec0839149a697a92d87411dab41"
            }
          },
          "metadata": {}
        },
        {
          "output_type": "stream",
          "name": "stdout",
          "text": [
            "Raw BLEU score: 0.335853\n",
            "Norvig BLEU score: 0.684987;    improvement: 0.349134\n",
            "N-gram BLEU score: 0.785636;    improvement: 0.449783\n"
          ]
        }
      ]
    },
    {
      "cell_type": "code",
      "source": [],
      "metadata": {
        "id": "DkuPJ3uHZgzj"
      },
      "execution_count": null,
      "outputs": []
    }
  ],
  "metadata": {
    "colab": {
      "provenance": []
    },
    "kernelspec": {
      "display_name": "Python 3",
      "name": "python3"
    },
    "language_info": {
      "name": "python"
    },
    "widgets": {
      "application/vnd.jupyter.widget-state+json": {
        "763cf038ffbd4c0f9553786aa930da03": {
          "model_module": "@jupyter-widgets/controls",
          "model_name": "HBoxModel",
          "model_module_version": "1.5.0",
          "state": {
            "_dom_classes": [],
            "_model_module": "@jupyter-widgets/controls",
            "_model_module_version": "1.5.0",
            "_model_name": "HBoxModel",
            "_view_count": null,
            "_view_module": "@jupyter-widgets/controls",
            "_view_module_version": "1.5.0",
            "_view_name": "HBoxView",
            "box_style": "",
            "children": [
              "IPY_MODEL_a4c15416fdb446619cc4b1f496c758e6",
              "IPY_MODEL_ddb4ffcf71b14737a9b128318c3ef451",
              "IPY_MODEL_61956c17ed1e41b0ac1aca2114c36e8a"
            ],
            "layout": "IPY_MODEL_fe1f87275309403faae7de2f9b178814"
          }
        },
        "a4c15416fdb446619cc4b1f496c758e6": {
          "model_module": "@jupyter-widgets/controls",
          "model_name": "HTMLModel",
          "model_module_version": "1.5.0",
          "state": {
            "_dom_classes": [],
            "_model_module": "@jupyter-widgets/controls",
            "_model_module_version": "1.5.0",
            "_model_name": "HTMLModel",
            "_view_count": null,
            "_view_module": "@jupyter-widgets/controls",
            "_view_module_version": "1.5.0",
            "_view_name": "HTMLView",
            "description": "",
            "description_tooltip": null,
            "layout": "IPY_MODEL_ee7f19073255464bbc2fb1fc51e890fe",
            "placeholder": "​",
            "style": "IPY_MODEL_86ce1d46dfbe46af946965995b7952ea",
            "value": "Counting n-grams: 100%"
          }
        },
        "ddb4ffcf71b14737a9b128318c3ef451": {
          "model_module": "@jupyter-widgets/controls",
          "model_name": "FloatProgressModel",
          "model_module_version": "1.5.0",
          "state": {
            "_dom_classes": [],
            "_model_module": "@jupyter-widgets/controls",
            "_model_module_version": "1.5.0",
            "_model_name": "FloatProgressModel",
            "_view_count": null,
            "_view_module": "@jupyter-widgets/controls",
            "_view_module_version": "1.5.0",
            "_view_name": "ProgressView",
            "bar_style": "success",
            "description": "",
            "description_tooltip": null,
            "layout": "IPY_MODEL_fe0c019a6dc340db8c23cc3efcbe2840",
            "max": 1020385,
            "min": 0,
            "orientation": "horizontal",
            "style": "IPY_MODEL_86ec09b2ed6a423f9df79ac79e2a7ad6",
            "value": 1020385
          }
        },
        "61956c17ed1e41b0ac1aca2114c36e8a": {
          "model_module": "@jupyter-widgets/controls",
          "model_name": "HTMLModel",
          "model_module_version": "1.5.0",
          "state": {
            "_dom_classes": [],
            "_model_module": "@jupyter-widgets/controls",
            "_model_module_version": "1.5.0",
            "_model_name": "HTMLModel",
            "_view_count": null,
            "_view_module": "@jupyter-widgets/controls",
            "_view_module_version": "1.5.0",
            "_view_name": "HTMLView",
            "description": "",
            "description_tooltip": null,
            "layout": "IPY_MODEL_daac3efc59334e00ab818207aa9d4aea",
            "placeholder": "​",
            "style": "IPY_MODEL_2dca263201374e75a57ad5835e1ea138",
            "value": " 1020385/1020385 [00:04&lt;00:00, 155787.05it/s]"
          }
        },
        "fe1f87275309403faae7de2f9b178814": {
          "model_module": "@jupyter-widgets/base",
          "model_name": "LayoutModel",
          "model_module_version": "1.2.0",
          "state": {
            "_model_module": "@jupyter-widgets/base",
            "_model_module_version": "1.2.0",
            "_model_name": "LayoutModel",
            "_view_count": null,
            "_view_module": "@jupyter-widgets/base",
            "_view_module_version": "1.2.0",
            "_view_name": "LayoutView",
            "align_content": null,
            "align_items": null,
            "align_self": null,
            "border": null,
            "bottom": null,
            "display": null,
            "flex": null,
            "flex_flow": null,
            "grid_area": null,
            "grid_auto_columns": null,
            "grid_auto_flow": null,
            "grid_auto_rows": null,
            "grid_column": null,
            "grid_gap": null,
            "grid_row": null,
            "grid_template_areas": null,
            "grid_template_columns": null,
            "grid_template_rows": null,
            "height": null,
            "justify_content": null,
            "justify_items": null,
            "left": null,
            "margin": null,
            "max_height": null,
            "max_width": null,
            "min_height": null,
            "min_width": null,
            "object_fit": null,
            "object_position": null,
            "order": null,
            "overflow": null,
            "overflow_x": null,
            "overflow_y": null,
            "padding": null,
            "right": null,
            "top": null,
            "visibility": null,
            "width": null
          }
        },
        "ee7f19073255464bbc2fb1fc51e890fe": {
          "model_module": "@jupyter-widgets/base",
          "model_name": "LayoutModel",
          "model_module_version": "1.2.0",
          "state": {
            "_model_module": "@jupyter-widgets/base",
            "_model_module_version": "1.2.0",
            "_model_name": "LayoutModel",
            "_view_count": null,
            "_view_module": "@jupyter-widgets/base",
            "_view_module_version": "1.2.0",
            "_view_name": "LayoutView",
            "align_content": null,
            "align_items": null,
            "align_self": null,
            "border": null,
            "bottom": null,
            "display": null,
            "flex": null,
            "flex_flow": null,
            "grid_area": null,
            "grid_auto_columns": null,
            "grid_auto_flow": null,
            "grid_auto_rows": null,
            "grid_column": null,
            "grid_gap": null,
            "grid_row": null,
            "grid_template_areas": null,
            "grid_template_columns": null,
            "grid_template_rows": null,
            "height": null,
            "justify_content": null,
            "justify_items": null,
            "left": null,
            "margin": null,
            "max_height": null,
            "max_width": null,
            "min_height": null,
            "min_width": null,
            "object_fit": null,
            "object_position": null,
            "order": null,
            "overflow": null,
            "overflow_x": null,
            "overflow_y": null,
            "padding": null,
            "right": null,
            "top": null,
            "visibility": null,
            "width": null
          }
        },
        "86ce1d46dfbe46af946965995b7952ea": {
          "model_module": "@jupyter-widgets/controls",
          "model_name": "DescriptionStyleModel",
          "model_module_version": "1.5.0",
          "state": {
            "_model_module": "@jupyter-widgets/controls",
            "_model_module_version": "1.5.0",
            "_model_name": "DescriptionStyleModel",
            "_view_count": null,
            "_view_module": "@jupyter-widgets/base",
            "_view_module_version": "1.2.0",
            "_view_name": "StyleView",
            "description_width": ""
          }
        },
        "fe0c019a6dc340db8c23cc3efcbe2840": {
          "model_module": "@jupyter-widgets/base",
          "model_name": "LayoutModel",
          "model_module_version": "1.2.0",
          "state": {
            "_model_module": "@jupyter-widgets/base",
            "_model_module_version": "1.2.0",
            "_model_name": "LayoutModel",
            "_view_count": null,
            "_view_module": "@jupyter-widgets/base",
            "_view_module_version": "1.2.0",
            "_view_name": "LayoutView",
            "align_content": null,
            "align_items": null,
            "align_self": null,
            "border": null,
            "bottom": null,
            "display": null,
            "flex": null,
            "flex_flow": null,
            "grid_area": null,
            "grid_auto_columns": null,
            "grid_auto_flow": null,
            "grid_auto_rows": null,
            "grid_column": null,
            "grid_gap": null,
            "grid_row": null,
            "grid_template_areas": null,
            "grid_template_columns": null,
            "grid_template_rows": null,
            "height": null,
            "justify_content": null,
            "justify_items": null,
            "left": null,
            "margin": null,
            "max_height": null,
            "max_width": null,
            "min_height": null,
            "min_width": null,
            "object_fit": null,
            "object_position": null,
            "order": null,
            "overflow": null,
            "overflow_x": null,
            "overflow_y": null,
            "padding": null,
            "right": null,
            "top": null,
            "visibility": null,
            "width": null
          }
        },
        "86ec09b2ed6a423f9df79ac79e2a7ad6": {
          "model_module": "@jupyter-widgets/controls",
          "model_name": "ProgressStyleModel",
          "model_module_version": "1.5.0",
          "state": {
            "_model_module": "@jupyter-widgets/controls",
            "_model_module_version": "1.5.0",
            "_model_name": "ProgressStyleModel",
            "_view_count": null,
            "_view_module": "@jupyter-widgets/base",
            "_view_module_version": "1.2.0",
            "_view_name": "StyleView",
            "bar_color": null,
            "description_width": ""
          }
        },
        "daac3efc59334e00ab818207aa9d4aea": {
          "model_module": "@jupyter-widgets/base",
          "model_name": "LayoutModel",
          "model_module_version": "1.2.0",
          "state": {
            "_model_module": "@jupyter-widgets/base",
            "_model_module_version": "1.2.0",
            "_model_name": "LayoutModel",
            "_view_count": null,
            "_view_module": "@jupyter-widgets/base",
            "_view_module_version": "1.2.0",
            "_view_name": "LayoutView",
            "align_content": null,
            "align_items": null,
            "align_self": null,
            "border": null,
            "bottom": null,
            "display": null,
            "flex": null,
            "flex_flow": null,
            "grid_area": null,
            "grid_auto_columns": null,
            "grid_auto_flow": null,
            "grid_auto_rows": null,
            "grid_column": null,
            "grid_gap": null,
            "grid_row": null,
            "grid_template_areas": null,
            "grid_template_columns": null,
            "grid_template_rows": null,
            "height": null,
            "justify_content": null,
            "justify_items": null,
            "left": null,
            "margin": null,
            "max_height": null,
            "max_width": null,
            "min_height": null,
            "min_width": null,
            "object_fit": null,
            "object_position": null,
            "order": null,
            "overflow": null,
            "overflow_x": null,
            "overflow_y": null,
            "padding": null,
            "right": null,
            "top": null,
            "visibility": null,
            "width": null
          }
        },
        "2dca263201374e75a57ad5835e1ea138": {
          "model_module": "@jupyter-widgets/controls",
          "model_name": "DescriptionStyleModel",
          "model_module_version": "1.5.0",
          "state": {
            "_model_module": "@jupyter-widgets/controls",
            "_model_module_version": "1.5.0",
            "_model_name": "DescriptionStyleModel",
            "_view_count": null,
            "_view_module": "@jupyter-widgets/base",
            "_view_module_version": "1.2.0",
            "_view_name": "StyleView",
            "description_width": ""
          }
        },
        "115a50722235441a9cf8aa7f98941cf7": {
          "model_module": "@jupyter-widgets/controls",
          "model_name": "HBoxModel",
          "model_module_version": "1.5.0",
          "state": {
            "_dom_classes": [],
            "_model_module": "@jupyter-widgets/controls",
            "_model_module_version": "1.5.0",
            "_model_name": "HBoxModel",
            "_view_count": null,
            "_view_module": "@jupyter-widgets/controls",
            "_view_module_version": "1.5.0",
            "_view_name": "HBoxView",
            "box_style": "",
            "children": [
              "IPY_MODEL_7c5474a17d0946e4b2e60a1737f3461f",
              "IPY_MODEL_1cf261c11ac3438f9e1cad974388afc8",
              "IPY_MODEL_c0301574f53d4516abbc2590f05e342e"
            ],
            "layout": "IPY_MODEL_2b2bba8f7cc543ee8427eca6ba65ddf8"
          }
        },
        "7c5474a17d0946e4b2e60a1737f3461f": {
          "model_module": "@jupyter-widgets/controls",
          "model_name": "HTMLModel",
          "model_module_version": "1.5.0",
          "state": {
            "_dom_classes": [],
            "_model_module": "@jupyter-widgets/controls",
            "_model_module_version": "1.5.0",
            "_model_name": "HTMLModel",
            "_view_count": null,
            "_view_module": "@jupyter-widgets/controls",
            "_view_module_version": "1.5.0",
            "_view_name": "HTMLView",
            "description": "",
            "description_tooltip": null,
            "layout": "IPY_MODEL_28f1d304e9ea4dfa808011bf594e28ae",
            "placeholder": "​",
            "style": "IPY_MODEL_431a3d3383284c4980f37250ee950ef9",
            "value": "Beam search: 100%"
          }
        },
        "1cf261c11ac3438f9e1cad974388afc8": {
          "model_module": "@jupyter-widgets/controls",
          "model_name": "FloatProgressModel",
          "model_module_version": "1.5.0",
          "state": {
            "_dom_classes": [],
            "_model_module": "@jupyter-widgets/controls",
            "_model_module_version": "1.5.0",
            "_model_name": "FloatProgressModel",
            "_view_count": null,
            "_view_module": "@jupyter-widgets/controls",
            "_view_module_version": "1.5.0",
            "_view_name": "ProgressView",
            "bar_style": "success",
            "description": "",
            "description_tooltip": null,
            "layout": "IPY_MODEL_01dc98506a9f464da8c4dc91d29db6ec",
            "max": 15,
            "min": 0,
            "orientation": "horizontal",
            "style": "IPY_MODEL_b01ce1b0990049f190913c94868757f8",
            "value": 15
          }
        },
        "c0301574f53d4516abbc2590f05e342e": {
          "model_module": "@jupyter-widgets/controls",
          "model_name": "HTMLModel",
          "model_module_version": "1.5.0",
          "state": {
            "_dom_classes": [],
            "_model_module": "@jupyter-widgets/controls",
            "_model_module_version": "1.5.0",
            "_model_name": "HTMLModel",
            "_view_count": null,
            "_view_module": "@jupyter-widgets/controls",
            "_view_module_version": "1.5.0",
            "_view_name": "HTMLView",
            "description": "",
            "description_tooltip": null,
            "layout": "IPY_MODEL_baf3002a6958415cac577d963e3809cf",
            "placeholder": "​",
            "style": "IPY_MODEL_3457ee61fa1e47188eb4d60ce81c278f",
            "value": " 15/15 [00:09&lt;00:00,  1.35it/s]"
          }
        },
        "2b2bba8f7cc543ee8427eca6ba65ddf8": {
          "model_module": "@jupyter-widgets/base",
          "model_name": "LayoutModel",
          "model_module_version": "1.2.0",
          "state": {
            "_model_module": "@jupyter-widgets/base",
            "_model_module_version": "1.2.0",
            "_model_name": "LayoutModel",
            "_view_count": null,
            "_view_module": "@jupyter-widgets/base",
            "_view_module_version": "1.2.0",
            "_view_name": "LayoutView",
            "align_content": null,
            "align_items": null,
            "align_self": null,
            "border": null,
            "bottom": null,
            "display": null,
            "flex": null,
            "flex_flow": null,
            "grid_area": null,
            "grid_auto_columns": null,
            "grid_auto_flow": null,
            "grid_auto_rows": null,
            "grid_column": null,
            "grid_gap": null,
            "grid_row": null,
            "grid_template_areas": null,
            "grid_template_columns": null,
            "grid_template_rows": null,
            "height": null,
            "justify_content": null,
            "justify_items": null,
            "left": null,
            "margin": null,
            "max_height": null,
            "max_width": null,
            "min_height": null,
            "min_width": null,
            "object_fit": null,
            "object_position": null,
            "order": null,
            "overflow": null,
            "overflow_x": null,
            "overflow_y": null,
            "padding": null,
            "right": null,
            "top": null,
            "visibility": null,
            "width": null
          }
        },
        "28f1d304e9ea4dfa808011bf594e28ae": {
          "model_module": "@jupyter-widgets/base",
          "model_name": "LayoutModel",
          "model_module_version": "1.2.0",
          "state": {
            "_model_module": "@jupyter-widgets/base",
            "_model_module_version": "1.2.0",
            "_model_name": "LayoutModel",
            "_view_count": null,
            "_view_module": "@jupyter-widgets/base",
            "_view_module_version": "1.2.0",
            "_view_name": "LayoutView",
            "align_content": null,
            "align_items": null,
            "align_self": null,
            "border": null,
            "bottom": null,
            "display": null,
            "flex": null,
            "flex_flow": null,
            "grid_area": null,
            "grid_auto_columns": null,
            "grid_auto_flow": null,
            "grid_auto_rows": null,
            "grid_column": null,
            "grid_gap": null,
            "grid_row": null,
            "grid_template_areas": null,
            "grid_template_columns": null,
            "grid_template_rows": null,
            "height": null,
            "justify_content": null,
            "justify_items": null,
            "left": null,
            "margin": null,
            "max_height": null,
            "max_width": null,
            "min_height": null,
            "min_width": null,
            "object_fit": null,
            "object_position": null,
            "order": null,
            "overflow": null,
            "overflow_x": null,
            "overflow_y": null,
            "padding": null,
            "right": null,
            "top": null,
            "visibility": null,
            "width": null
          }
        },
        "431a3d3383284c4980f37250ee950ef9": {
          "model_module": "@jupyter-widgets/controls",
          "model_name": "DescriptionStyleModel",
          "model_module_version": "1.5.0",
          "state": {
            "_model_module": "@jupyter-widgets/controls",
            "_model_module_version": "1.5.0",
            "_model_name": "DescriptionStyleModel",
            "_view_count": null,
            "_view_module": "@jupyter-widgets/base",
            "_view_module_version": "1.2.0",
            "_view_name": "StyleView",
            "description_width": ""
          }
        },
        "01dc98506a9f464da8c4dc91d29db6ec": {
          "model_module": "@jupyter-widgets/base",
          "model_name": "LayoutModel",
          "model_module_version": "1.2.0",
          "state": {
            "_model_module": "@jupyter-widgets/base",
            "_model_module_version": "1.2.0",
            "_model_name": "LayoutModel",
            "_view_count": null,
            "_view_module": "@jupyter-widgets/base",
            "_view_module_version": "1.2.0",
            "_view_name": "LayoutView",
            "align_content": null,
            "align_items": null,
            "align_self": null,
            "border": null,
            "bottom": null,
            "display": null,
            "flex": null,
            "flex_flow": null,
            "grid_area": null,
            "grid_auto_columns": null,
            "grid_auto_flow": null,
            "grid_auto_rows": null,
            "grid_column": null,
            "grid_gap": null,
            "grid_row": null,
            "grid_template_areas": null,
            "grid_template_columns": null,
            "grid_template_rows": null,
            "height": null,
            "justify_content": null,
            "justify_items": null,
            "left": null,
            "margin": null,
            "max_height": null,
            "max_width": null,
            "min_height": null,
            "min_width": null,
            "object_fit": null,
            "object_position": null,
            "order": null,
            "overflow": null,
            "overflow_x": null,
            "overflow_y": null,
            "padding": null,
            "right": null,
            "top": null,
            "visibility": null,
            "width": null
          }
        },
        "b01ce1b0990049f190913c94868757f8": {
          "model_module": "@jupyter-widgets/controls",
          "model_name": "ProgressStyleModel",
          "model_module_version": "1.5.0",
          "state": {
            "_model_module": "@jupyter-widgets/controls",
            "_model_module_version": "1.5.0",
            "_model_name": "ProgressStyleModel",
            "_view_count": null,
            "_view_module": "@jupyter-widgets/base",
            "_view_module_version": "1.2.0",
            "_view_name": "StyleView",
            "bar_color": null,
            "description_width": ""
          }
        },
        "baf3002a6958415cac577d963e3809cf": {
          "model_module": "@jupyter-widgets/base",
          "model_name": "LayoutModel",
          "model_module_version": "1.2.0",
          "state": {
            "_model_module": "@jupyter-widgets/base",
            "_model_module_version": "1.2.0",
            "_model_name": "LayoutModel",
            "_view_count": null,
            "_view_module": "@jupyter-widgets/base",
            "_view_module_version": "1.2.0",
            "_view_name": "LayoutView",
            "align_content": null,
            "align_items": null,
            "align_self": null,
            "border": null,
            "bottom": null,
            "display": null,
            "flex": null,
            "flex_flow": null,
            "grid_area": null,
            "grid_auto_columns": null,
            "grid_auto_flow": null,
            "grid_auto_rows": null,
            "grid_column": null,
            "grid_gap": null,
            "grid_row": null,
            "grid_template_areas": null,
            "grid_template_columns": null,
            "grid_template_rows": null,
            "height": null,
            "justify_content": null,
            "justify_items": null,
            "left": null,
            "margin": null,
            "max_height": null,
            "max_width": null,
            "min_height": null,
            "min_width": null,
            "object_fit": null,
            "object_position": null,
            "order": null,
            "overflow": null,
            "overflow_x": null,
            "overflow_y": null,
            "padding": null,
            "right": null,
            "top": null,
            "visibility": null,
            "width": null
          }
        },
        "3457ee61fa1e47188eb4d60ce81c278f": {
          "model_module": "@jupyter-widgets/controls",
          "model_name": "DescriptionStyleModel",
          "model_module_version": "1.5.0",
          "state": {
            "_model_module": "@jupyter-widgets/controls",
            "_model_module_version": "1.5.0",
            "_model_name": "DescriptionStyleModel",
            "_view_count": null,
            "_view_module": "@jupyter-widgets/base",
            "_view_module_version": "1.2.0",
            "_view_name": "StyleView",
            "description_width": ""
          }
        },
        "a22adec0839149a697a92d87411dab41": {
          "model_module": "@jupyter-widgets/controls",
          "model_name": "HBoxModel",
          "model_module_version": "1.5.0",
          "state": {
            "_dom_classes": [],
            "_model_module": "@jupyter-widgets/controls",
            "_model_module_version": "1.5.0",
            "_model_name": "HBoxModel",
            "_view_count": null,
            "_view_module": "@jupyter-widgets/controls",
            "_view_module_version": "1.5.0",
            "_view_name": "HBoxView",
            "box_style": "",
            "children": [
              "IPY_MODEL_78b2b51a6b364eb2b6e183b22402ddeb",
              "IPY_MODEL_08bfea7761844a4aaa020517cd7da77a",
              "IPY_MODEL_2fa5243d2fd7444e9bce02706dea749a"
            ],
            "layout": "IPY_MODEL_042846b15f7640eaa90f2ccd027055e4"
          }
        },
        "78b2b51a6b364eb2b6e183b22402ddeb": {
          "model_module": "@jupyter-widgets/controls",
          "model_name": "HTMLModel",
          "model_module_version": "1.5.0",
          "state": {
            "_dom_classes": [],
            "_model_module": "@jupyter-widgets/controls",
            "_model_module_version": "1.5.0",
            "_model_name": "HTMLModel",
            "_view_count": null,
            "_view_module": "@jupyter-widgets/controls",
            "_view_module_version": "1.5.0",
            "_view_name": "HTMLView",
            "description": "",
            "description_tooltip": null,
            "layout": "IPY_MODEL_50297a9fe75743cf92764ce33c4d15a6",
            "placeholder": "​",
            "style": "IPY_MODEL_a08e39032f164f6ea3c12ef8e35df825",
            "value": "Evaluating BLEU score: 100%"
          }
        },
        "08bfea7761844a4aaa020517cd7da77a": {
          "model_module": "@jupyter-widgets/controls",
          "model_name": "FloatProgressModel",
          "model_module_version": "1.5.0",
          "state": {
            "_dom_classes": [],
            "_model_module": "@jupyter-widgets/controls",
            "_model_module_version": "1.5.0",
            "_model_name": "FloatProgressModel",
            "_view_count": null,
            "_view_module": "@jupyter-widgets/controls",
            "_view_module_version": "1.5.0",
            "_view_name": "ProgressView",
            "bar_style": "success",
            "description": "",
            "description_tooltip": null,
            "layout": "IPY_MODEL_0f95afe960b642cd83a645b1944c4256",
            "max": 100,
            "min": 0,
            "orientation": "horizontal",
            "style": "IPY_MODEL_26c91ea780c14f019a451da777cca62c",
            "value": 100
          }
        },
        "2fa5243d2fd7444e9bce02706dea749a": {
          "model_module": "@jupyter-widgets/controls",
          "model_name": "HTMLModel",
          "model_module_version": "1.5.0",
          "state": {
            "_dom_classes": [],
            "_model_module": "@jupyter-widgets/controls",
            "_model_module_version": "1.5.0",
            "_model_name": "HTMLModel",
            "_view_count": null,
            "_view_module": "@jupyter-widgets/controls",
            "_view_module_version": "1.5.0",
            "_view_name": "HTMLView",
            "description": "",
            "description_tooltip": null,
            "layout": "IPY_MODEL_d66d5c59b1cb4874b118b17274c87517",
            "placeholder": "​",
            "style": "IPY_MODEL_6b520cbc6b76417397cea6f4c2e3eb7a",
            "value": " 100/100 [02:24&lt;00:00,  1.17it/s]"
          }
        },
        "042846b15f7640eaa90f2ccd027055e4": {
          "model_module": "@jupyter-widgets/base",
          "model_name": "LayoutModel",
          "model_module_version": "1.2.0",
          "state": {
            "_model_module": "@jupyter-widgets/base",
            "_model_module_version": "1.2.0",
            "_model_name": "LayoutModel",
            "_view_count": null,
            "_view_module": "@jupyter-widgets/base",
            "_view_module_version": "1.2.0",
            "_view_name": "LayoutView",
            "align_content": null,
            "align_items": null,
            "align_self": null,
            "border": null,
            "bottom": null,
            "display": null,
            "flex": null,
            "flex_flow": null,
            "grid_area": null,
            "grid_auto_columns": null,
            "grid_auto_flow": null,
            "grid_auto_rows": null,
            "grid_column": null,
            "grid_gap": null,
            "grid_row": null,
            "grid_template_areas": null,
            "grid_template_columns": null,
            "grid_template_rows": null,
            "height": null,
            "justify_content": null,
            "justify_items": null,
            "left": null,
            "margin": null,
            "max_height": null,
            "max_width": null,
            "min_height": null,
            "min_width": null,
            "object_fit": null,
            "object_position": null,
            "order": null,
            "overflow": null,
            "overflow_x": null,
            "overflow_y": null,
            "padding": null,
            "right": null,
            "top": null,
            "visibility": null,
            "width": null
          }
        },
        "50297a9fe75743cf92764ce33c4d15a6": {
          "model_module": "@jupyter-widgets/base",
          "model_name": "LayoutModel",
          "model_module_version": "1.2.0",
          "state": {
            "_model_module": "@jupyter-widgets/base",
            "_model_module_version": "1.2.0",
            "_model_name": "LayoutModel",
            "_view_count": null,
            "_view_module": "@jupyter-widgets/base",
            "_view_module_version": "1.2.0",
            "_view_name": "LayoutView",
            "align_content": null,
            "align_items": null,
            "align_self": null,
            "border": null,
            "bottom": null,
            "display": null,
            "flex": null,
            "flex_flow": null,
            "grid_area": null,
            "grid_auto_columns": null,
            "grid_auto_flow": null,
            "grid_auto_rows": null,
            "grid_column": null,
            "grid_gap": null,
            "grid_row": null,
            "grid_template_areas": null,
            "grid_template_columns": null,
            "grid_template_rows": null,
            "height": null,
            "justify_content": null,
            "justify_items": null,
            "left": null,
            "margin": null,
            "max_height": null,
            "max_width": null,
            "min_height": null,
            "min_width": null,
            "object_fit": null,
            "object_position": null,
            "order": null,
            "overflow": null,
            "overflow_x": null,
            "overflow_y": null,
            "padding": null,
            "right": null,
            "top": null,
            "visibility": null,
            "width": null
          }
        },
        "a08e39032f164f6ea3c12ef8e35df825": {
          "model_module": "@jupyter-widgets/controls",
          "model_name": "DescriptionStyleModel",
          "model_module_version": "1.5.0",
          "state": {
            "_model_module": "@jupyter-widgets/controls",
            "_model_module_version": "1.5.0",
            "_model_name": "DescriptionStyleModel",
            "_view_count": null,
            "_view_module": "@jupyter-widgets/base",
            "_view_module_version": "1.2.0",
            "_view_name": "StyleView",
            "description_width": ""
          }
        },
        "0f95afe960b642cd83a645b1944c4256": {
          "model_module": "@jupyter-widgets/base",
          "model_name": "LayoutModel",
          "model_module_version": "1.2.0",
          "state": {
            "_model_module": "@jupyter-widgets/base",
            "_model_module_version": "1.2.0",
            "_model_name": "LayoutModel",
            "_view_count": null,
            "_view_module": "@jupyter-widgets/base",
            "_view_module_version": "1.2.0",
            "_view_name": "LayoutView",
            "align_content": null,
            "align_items": null,
            "align_self": null,
            "border": null,
            "bottom": null,
            "display": null,
            "flex": null,
            "flex_flow": null,
            "grid_area": null,
            "grid_auto_columns": null,
            "grid_auto_flow": null,
            "grid_auto_rows": null,
            "grid_column": null,
            "grid_gap": null,
            "grid_row": null,
            "grid_template_areas": null,
            "grid_template_columns": null,
            "grid_template_rows": null,
            "height": null,
            "justify_content": null,
            "justify_items": null,
            "left": null,
            "margin": null,
            "max_height": null,
            "max_width": null,
            "min_height": null,
            "min_width": null,
            "object_fit": null,
            "object_position": null,
            "order": null,
            "overflow": null,
            "overflow_x": null,
            "overflow_y": null,
            "padding": null,
            "right": null,
            "top": null,
            "visibility": null,
            "width": null
          }
        },
        "26c91ea780c14f019a451da777cca62c": {
          "model_module": "@jupyter-widgets/controls",
          "model_name": "ProgressStyleModel",
          "model_module_version": "1.5.0",
          "state": {
            "_model_module": "@jupyter-widgets/controls",
            "_model_module_version": "1.5.0",
            "_model_name": "ProgressStyleModel",
            "_view_count": null,
            "_view_module": "@jupyter-widgets/base",
            "_view_module_version": "1.2.0",
            "_view_name": "StyleView",
            "bar_color": null,
            "description_width": ""
          }
        },
        "d66d5c59b1cb4874b118b17274c87517": {
          "model_module": "@jupyter-widgets/base",
          "model_name": "LayoutModel",
          "model_module_version": "1.2.0",
          "state": {
            "_model_module": "@jupyter-widgets/base",
            "_model_module_version": "1.2.0",
            "_model_name": "LayoutModel",
            "_view_count": null,
            "_view_module": "@jupyter-widgets/base",
            "_view_module_version": "1.2.0",
            "_view_name": "LayoutView",
            "align_content": null,
            "align_items": null,
            "align_self": null,
            "border": null,
            "bottom": null,
            "display": null,
            "flex": null,
            "flex_flow": null,
            "grid_area": null,
            "grid_auto_columns": null,
            "grid_auto_flow": null,
            "grid_auto_rows": null,
            "grid_column": null,
            "grid_gap": null,
            "grid_row": null,
            "grid_template_areas": null,
            "grid_template_columns": null,
            "grid_template_rows": null,
            "height": null,
            "justify_content": null,
            "justify_items": null,
            "left": null,
            "margin": null,
            "max_height": null,
            "max_width": null,
            "min_height": null,
            "min_width": null,
            "object_fit": null,
            "object_position": null,
            "order": null,
            "overflow": null,
            "overflow_x": null,
            "overflow_y": null,
            "padding": null,
            "right": null,
            "top": null,
            "visibility": null,
            "width": null
          }
        },
        "6b520cbc6b76417397cea6f4c2e3eb7a": {
          "model_module": "@jupyter-widgets/controls",
          "model_name": "DescriptionStyleModel",
          "model_module_version": "1.5.0",
          "state": {
            "_model_module": "@jupyter-widgets/controls",
            "_model_module_version": "1.5.0",
            "_model_name": "DescriptionStyleModel",
            "_view_count": null,
            "_view_module": "@jupyter-widgets/base",
            "_view_module_version": "1.2.0",
            "_view_name": "StyleView",
            "description_width": ""
          }
        }
      }
    }
  },
  "nbformat": 4,
  "nbformat_minor": 0
}